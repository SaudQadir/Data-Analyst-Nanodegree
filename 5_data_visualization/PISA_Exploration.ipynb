{
  "nbformat": 4,
  "nbformat_minor": 0,
  "metadata": {
    "kernelspec": {
      "display_name": "Python [default]",
      "language": "python",
      "name": "python3"
    },
    "language_info": {
      "codemirror_mode": {
        "name": "ipython",
        "version": 3
      },
      "file_extension": ".py",
      "mimetype": "text/x-python",
      "name": "python",
      "nbconvert_exporter": "python",
      "pygments_lexer": "ipython3",
      "version": "3.5.3"
    },
    "colab": {
      "name": "PISA Exploration.ipynb",
      "provenance": [],
      "collapsed_sections": [],
      "toc_visible": true
    }
  },
  "cells": [
    {
      "cell_type": "markdown",
      "metadata": {
        "id": "FMGay_0OmxC9",
        "colab_type": "text"
      },
      "source": [
        "# pisa dataset exploration\n",
        "## by Saud Qadir Khan\n",
        "\n",
        "## Preliminary Wrangling\n",
        "\n",
        "> Briefly introduce your dataset here."
      ]
    },
    {
      "cell_type": "code",
      "metadata": {
        "id": "xQvIF-sPmxDG",
        "colab_type": "code",
        "colab": {
          "base_uri": "https://localhost:8080/",
          "height": 71
        },
        "outputId": "d3fe7126-1343-488d-a051-dfdea0f2d188"
      },
      "source": [
        "# import all packages and set plots to be embedded inline\n",
        "import numpy as np\n",
        "import pandas as pd\n",
        "import matplotlib.pyplot as plt\n",
        "import seaborn as sb\n",
        "from urllib.request import urlopen\n",
        "from zipfile import ZipFile\n",
        "\n",
        "%matplotlib inline"
      ],
      "execution_count": null,
      "outputs": [
        {
          "output_type": "stream",
          "text": [
            "/usr/local/lib/python3.6/dist-packages/statsmodels/tools/_testing.py:19: FutureWarning: pandas.util.testing is deprecated. Use the functions in the public API at pandas.testing instead.\n",
            "  import pandas.util.testing as tm\n"
          ],
          "name": "stderr"
        }
      ]
    },
    {
      "cell_type": "code",
      "metadata": {
        "id": "TwFYEBgJpiMd",
        "colab_type": "code",
        "colab": {
          "base_uri": "https://localhost:8080/",
          "height": 122
        },
        "outputId": "1105f8f1-dd33-4a02-eca3-faa13cabd7b1"
      },
      "source": [
        "from google.colab import drive\n",
        "drive.mount('/content/drive')"
      ],
      "execution_count": null,
      "outputs": [
        {
          "output_type": "stream",
          "text": [
            "Go to this URL in a browser: https://accounts.google.com/o/oauth2/auth?client_id=947318989803-6bn6qk8qdgf4n4g3pfee6491hc0brc4i.apps.googleusercontent.com&redirect_uri=urn%3aietf%3awg%3aoauth%3a2.0%3aoob&response_type=code&scope=email%20https%3a%2f%2fwww.googleapis.com%2fauth%2fdocs.test%20https%3a%2f%2fwww.googleapis.com%2fauth%2fdrive%20https%3a%2f%2fwww.googleapis.com%2fauth%2fdrive.photos.readonly%20https%3a%2f%2fwww.googleapis.com%2fauth%2fpeopleapi.readonly\n",
            "\n",
            "Enter your authorization code:\n",
            "··········\n",
            "Mounted at /content/drive\n"
          ],
          "name": "stdout"
        }
      ]
    },
    {
      "cell_type": "markdown",
      "metadata": {
        "id": "dKU9T9ZhmxDb",
        "colab_type": "text"
      },
      "source": [
        "> Load in your dataset and describe its properties through the questions below.\n",
        "Try and motivate your exploration goals through this section."
      ]
    },
    {
      "cell_type": "code",
      "metadata": {
        "id": "iLMnRASbmxDd",
        "colab_type": "code",
        "colab": {}
      },
      "source": [
        "zipurl = 'https://s3.amazonaws.com/udacity-hosted-downloads/ud507/pisa2012.csv.zip'\n",
        "# Download the file from the URL\n",
        "zipresp = urlopen(zipurl)\n",
        "# Create a new file on the hard drive\n",
        "tempzip = open(\"/content/drive/My Drive/Data_Analysis/5_data_visualization/Project/Project/tempfile.zip\", \"wb\")\n",
        "# Write the contents of the downloaded file into the new file\n",
        "tempzip.write(zipresp.read())\n",
        "# Close the newly-created file\n",
        "tempzip.close()"
      ],
      "execution_count": null,
      "outputs": []
    },
    {
      "cell_type": "code",
      "metadata": {
        "id": "nSHfKCQts3s8",
        "colab_type": "code",
        "colab": {}
      },
      "source": [
        "# Re-open the newly-created file with ZipFile()\n",
        "zf = ZipFile(\"/content/drive/My Drive/Data_Analysis/5_data_visualization/Project/Project/tempfile.zip\")\n",
        "# Extract its contents into <extraction_path>\n",
        "# note that extractall will automatically create the path\n",
        "zf.extractall(path = '/')\n",
        "# close the ZipFile instance\n",
        "zf.close()"
      ],
      "execution_count": null,
      "outputs": []
    },
    {
      "cell_type": "code",
      "metadata": {
        "id": "9prj9JLgulRG",
        "colab_type": "code",
        "colab": {
          "base_uri": "https://localhost:8080/",
          "height": 627
        },
        "outputId": "f286d9c1-6ca0-40d5-f7cf-fd9ab37c6e5c"
      },
      "source": [
        "df =pd.read_csv('/pisa2012.csv',encoding = \"ISO-8859-1\",index_col=0)\n",
        "df.head()"
      ],
      "execution_count": null,
      "outputs": [
        {
          "output_type": "stream",
          "text": [
            "/usr/local/lib/python3.6/dist-packages/IPython/core/interactiveshell.py:2718: DtypeWarning: Columns (15,16,17,21,22,23,24,25,26,30,31,36,37,45,65,123,155,156,157,158,159,160,161,162,163,164,165,166,167,168,169,170,171,284,285,286,287,288,289,290,291,292,293,294,295,296,297,298,299,300,301,302,303,307,308,309,310,311,312,313,314,315,316,317,318,319,320,321,322,323,324,325,326,327,328,329,330,331,332,333,334,335,336,337,338,339,340,341,342,343,344,345,346,347,348,349,350,351,352,353,354,355,356,357,376,377,378,379,380,381,382,383,384,385,386,387,388,389,390,391,392,393,394,395,396,397,398,399,400,401,402,403,475) have mixed types.Specify dtype option on import or set low_memory=False.\n",
            "  interactivity=interactivity, compiler=compiler, result=result)\n"
          ],
          "name": "stderr"
        },
        {
          "output_type": "execute_result",
          "data": {
            "text/html": [
              "<div>\n",
              "<style scoped>\n",
              "    .dataframe tbody tr th:only-of-type {\n",
              "        vertical-align: middle;\n",
              "    }\n",
              "\n",
              "    .dataframe tbody tr th {\n",
              "        vertical-align: top;\n",
              "    }\n",
              "\n",
              "    .dataframe thead th {\n",
              "        text-align: right;\n",
              "    }\n",
              "</style>\n",
              "<table border=\"1\" class=\"dataframe\">\n",
              "  <thead>\n",
              "    <tr style=\"text-align: right;\">\n",
              "      <th></th>\n",
              "      <th>CNT</th>\n",
              "      <th>SUBNATIO</th>\n",
              "      <th>STRATUM</th>\n",
              "      <th>OECD</th>\n",
              "      <th>NC</th>\n",
              "      <th>SCHOOLID</th>\n",
              "      <th>STIDSTD</th>\n",
              "      <th>ST01Q01</th>\n",
              "      <th>ST02Q01</th>\n",
              "      <th>ST03Q01</th>\n",
              "      <th>ST03Q02</th>\n",
              "      <th>ST04Q01</th>\n",
              "      <th>ST05Q01</th>\n",
              "      <th>ST06Q01</th>\n",
              "      <th>ST07Q01</th>\n",
              "      <th>ST07Q02</th>\n",
              "      <th>ST07Q03</th>\n",
              "      <th>ST08Q01</th>\n",
              "      <th>ST09Q01</th>\n",
              "      <th>ST115Q01</th>\n",
              "      <th>ST11Q01</th>\n",
              "      <th>ST11Q02</th>\n",
              "      <th>ST11Q03</th>\n",
              "      <th>ST11Q04</th>\n",
              "      <th>ST11Q05</th>\n",
              "      <th>ST11Q06</th>\n",
              "      <th>ST13Q01</th>\n",
              "      <th>ST14Q01</th>\n",
              "      <th>ST14Q02</th>\n",
              "      <th>ST14Q03</th>\n",
              "      <th>ST14Q04</th>\n",
              "      <th>ST15Q01</th>\n",
              "      <th>ST17Q01</th>\n",
              "      <th>ST18Q01</th>\n",
              "      <th>ST18Q02</th>\n",
              "      <th>ST18Q03</th>\n",
              "      <th>ST18Q04</th>\n",
              "      <th>ST19Q01</th>\n",
              "      <th>ST20Q01</th>\n",
              "      <th>ST20Q02</th>\n",
              "      <th>...</th>\n",
              "      <th>W_FSTR45</th>\n",
              "      <th>W_FSTR46</th>\n",
              "      <th>W_FSTR47</th>\n",
              "      <th>W_FSTR48</th>\n",
              "      <th>W_FSTR49</th>\n",
              "      <th>W_FSTR50</th>\n",
              "      <th>W_FSTR51</th>\n",
              "      <th>W_FSTR52</th>\n",
              "      <th>W_FSTR53</th>\n",
              "      <th>W_FSTR54</th>\n",
              "      <th>W_FSTR55</th>\n",
              "      <th>W_FSTR56</th>\n",
              "      <th>W_FSTR57</th>\n",
              "      <th>W_FSTR58</th>\n",
              "      <th>W_FSTR59</th>\n",
              "      <th>W_FSTR60</th>\n",
              "      <th>W_FSTR61</th>\n",
              "      <th>W_FSTR62</th>\n",
              "      <th>W_FSTR63</th>\n",
              "      <th>W_FSTR64</th>\n",
              "      <th>W_FSTR65</th>\n",
              "      <th>W_FSTR66</th>\n",
              "      <th>W_FSTR67</th>\n",
              "      <th>W_FSTR68</th>\n",
              "      <th>W_FSTR69</th>\n",
              "      <th>W_FSTR70</th>\n",
              "      <th>W_FSTR71</th>\n",
              "      <th>W_FSTR72</th>\n",
              "      <th>W_FSTR73</th>\n",
              "      <th>W_FSTR74</th>\n",
              "      <th>W_FSTR75</th>\n",
              "      <th>W_FSTR76</th>\n",
              "      <th>W_FSTR77</th>\n",
              "      <th>W_FSTR78</th>\n",
              "      <th>W_FSTR79</th>\n",
              "      <th>W_FSTR80</th>\n",
              "      <th>WVARSTRR</th>\n",
              "      <th>VAR_UNIT</th>\n",
              "      <th>SENWGT_STU</th>\n",
              "      <th>VER_STU</th>\n",
              "    </tr>\n",
              "  </thead>\n",
              "  <tbody>\n",
              "    <tr>\n",
              "      <th>1</th>\n",
              "      <td>Albania</td>\n",
              "      <td>80000</td>\n",
              "      <td>ALB0006</td>\n",
              "      <td>Non-OECD</td>\n",
              "      <td>Albania</td>\n",
              "      <td>1</td>\n",
              "      <td>1</td>\n",
              "      <td>10</td>\n",
              "      <td>1.0</td>\n",
              "      <td>2</td>\n",
              "      <td>1996</td>\n",
              "      <td>Female</td>\n",
              "      <td>No</td>\n",
              "      <td>6.0</td>\n",
              "      <td>No, never</td>\n",
              "      <td>No, never</td>\n",
              "      <td>No, never</td>\n",
              "      <td>None</td>\n",
              "      <td>None</td>\n",
              "      <td>1.0</td>\n",
              "      <td>Yes</td>\n",
              "      <td>Yes</td>\n",
              "      <td>Yes</td>\n",
              "      <td>Yes</td>\n",
              "      <td>NaN</td>\n",
              "      <td>NaN</td>\n",
              "      <td>&lt;ISCED level 3A&gt;</td>\n",
              "      <td>No</td>\n",
              "      <td>No</td>\n",
              "      <td>No</td>\n",
              "      <td>No</td>\n",
              "      <td>Other (e.g. home duties, retired)</td>\n",
              "      <td>&lt;ISCED level 3A&gt;</td>\n",
              "      <td>NaN</td>\n",
              "      <td>NaN</td>\n",
              "      <td>NaN</td>\n",
              "      <td>NaN</td>\n",
              "      <td>Working part-time &lt;for pay&gt;</td>\n",
              "      <td>Country of test</td>\n",
              "      <td>Country of test</td>\n",
              "      <td>...</td>\n",
              "      <td>4.3313</td>\n",
              "      <td>4.5084</td>\n",
              "      <td>4.5084</td>\n",
              "      <td>13.7954</td>\n",
              "      <td>13.9235</td>\n",
              "      <td>4.3389</td>\n",
              "      <td>13.0829</td>\n",
              "      <td>13.9235</td>\n",
              "      <td>4.3389</td>\n",
              "      <td>4.3313</td>\n",
              "      <td>13.7954</td>\n",
              "      <td>13.9235</td>\n",
              "      <td>13.1249</td>\n",
              "      <td>13.1249</td>\n",
              "      <td>4.3389</td>\n",
              "      <td>13.0829</td>\n",
              "      <td>4.5084</td>\n",
              "      <td>4.5315</td>\n",
              "      <td>13.0829</td>\n",
              "      <td>4.5315</td>\n",
              "      <td>4.3313</td>\n",
              "      <td>4.5084</td>\n",
              "      <td>4.5084</td>\n",
              "      <td>13.7954</td>\n",
              "      <td>13.9235</td>\n",
              "      <td>4.3389</td>\n",
              "      <td>13.0829</td>\n",
              "      <td>13.9235</td>\n",
              "      <td>4.3389</td>\n",
              "      <td>4.3313</td>\n",
              "      <td>13.7954</td>\n",
              "      <td>13.9235</td>\n",
              "      <td>13.1249</td>\n",
              "      <td>13.1249</td>\n",
              "      <td>4.3389</td>\n",
              "      <td>13.0829</td>\n",
              "      <td>19</td>\n",
              "      <td>1</td>\n",
              "      <td>0.2098</td>\n",
              "      <td>22NOV13</td>\n",
              "    </tr>\n",
              "    <tr>\n",
              "      <th>2</th>\n",
              "      <td>Albania</td>\n",
              "      <td>80000</td>\n",
              "      <td>ALB0006</td>\n",
              "      <td>Non-OECD</td>\n",
              "      <td>Albania</td>\n",
              "      <td>1</td>\n",
              "      <td>2</td>\n",
              "      <td>10</td>\n",
              "      <td>1.0</td>\n",
              "      <td>2</td>\n",
              "      <td>1996</td>\n",
              "      <td>Female</td>\n",
              "      <td>Yes, for more than one year</td>\n",
              "      <td>7.0</td>\n",
              "      <td>No, never</td>\n",
              "      <td>No, never</td>\n",
              "      <td>No, never</td>\n",
              "      <td>One or two times</td>\n",
              "      <td>None</td>\n",
              "      <td>1.0</td>\n",
              "      <td>Yes</td>\n",
              "      <td>Yes</td>\n",
              "      <td>NaN</td>\n",
              "      <td>Yes</td>\n",
              "      <td>NaN</td>\n",
              "      <td>NaN</td>\n",
              "      <td>&lt;ISCED level 3A&gt;</td>\n",
              "      <td>Yes</td>\n",
              "      <td>Yes</td>\n",
              "      <td>No</td>\n",
              "      <td>No</td>\n",
              "      <td>Working full-time &lt;for pay&gt;</td>\n",
              "      <td>&lt;ISCED level 3A&gt;</td>\n",
              "      <td>No</td>\n",
              "      <td>No</td>\n",
              "      <td>No</td>\n",
              "      <td>No</td>\n",
              "      <td>Working full-time &lt;for pay&gt;</td>\n",
              "      <td>Country of test</td>\n",
              "      <td>Country of test</td>\n",
              "      <td>...</td>\n",
              "      <td>4.3313</td>\n",
              "      <td>4.5084</td>\n",
              "      <td>4.5084</td>\n",
              "      <td>13.7954</td>\n",
              "      <td>13.9235</td>\n",
              "      <td>4.3389</td>\n",
              "      <td>13.0829</td>\n",
              "      <td>13.9235</td>\n",
              "      <td>4.3389</td>\n",
              "      <td>4.3313</td>\n",
              "      <td>13.7954</td>\n",
              "      <td>13.9235</td>\n",
              "      <td>13.1249</td>\n",
              "      <td>13.1249</td>\n",
              "      <td>4.3389</td>\n",
              "      <td>13.0829</td>\n",
              "      <td>4.5084</td>\n",
              "      <td>4.5315</td>\n",
              "      <td>13.0829</td>\n",
              "      <td>4.5315</td>\n",
              "      <td>4.3313</td>\n",
              "      <td>4.5084</td>\n",
              "      <td>4.5084</td>\n",
              "      <td>13.7954</td>\n",
              "      <td>13.9235</td>\n",
              "      <td>4.3389</td>\n",
              "      <td>13.0829</td>\n",
              "      <td>13.9235</td>\n",
              "      <td>4.3389</td>\n",
              "      <td>4.3313</td>\n",
              "      <td>13.7954</td>\n",
              "      <td>13.9235</td>\n",
              "      <td>13.1249</td>\n",
              "      <td>13.1249</td>\n",
              "      <td>4.3389</td>\n",
              "      <td>13.0829</td>\n",
              "      <td>19</td>\n",
              "      <td>1</td>\n",
              "      <td>0.2098</td>\n",
              "      <td>22NOV13</td>\n",
              "    </tr>\n",
              "    <tr>\n",
              "      <th>3</th>\n",
              "      <td>Albania</td>\n",
              "      <td>80000</td>\n",
              "      <td>ALB0006</td>\n",
              "      <td>Non-OECD</td>\n",
              "      <td>Albania</td>\n",
              "      <td>1</td>\n",
              "      <td>3</td>\n",
              "      <td>9</td>\n",
              "      <td>1.0</td>\n",
              "      <td>9</td>\n",
              "      <td>1996</td>\n",
              "      <td>Female</td>\n",
              "      <td>Yes, for more than one year</td>\n",
              "      <td>6.0</td>\n",
              "      <td>No, never</td>\n",
              "      <td>No, never</td>\n",
              "      <td>No, never</td>\n",
              "      <td>None</td>\n",
              "      <td>None</td>\n",
              "      <td>1.0</td>\n",
              "      <td>Yes</td>\n",
              "      <td>Yes</td>\n",
              "      <td>No</td>\n",
              "      <td>Yes</td>\n",
              "      <td>No</td>\n",
              "      <td>No</td>\n",
              "      <td>&lt;ISCED level 3B, 3C&gt;</td>\n",
              "      <td>Yes</td>\n",
              "      <td>Yes</td>\n",
              "      <td>Yes</td>\n",
              "      <td>No</td>\n",
              "      <td>Working full-time &lt;for pay&gt;</td>\n",
              "      <td>&lt;ISCED level 3A&gt;</td>\n",
              "      <td>Yes</td>\n",
              "      <td>No</td>\n",
              "      <td>Yes</td>\n",
              "      <td>Yes</td>\n",
              "      <td>Working full-time &lt;for pay&gt;</td>\n",
              "      <td>Country of test</td>\n",
              "      <td>Country of test</td>\n",
              "      <td>...</td>\n",
              "      <td>4.2436</td>\n",
              "      <td>4.2436</td>\n",
              "      <td>4.2436</td>\n",
              "      <td>12.7307</td>\n",
              "      <td>12.7307</td>\n",
              "      <td>4.2436</td>\n",
              "      <td>12.7307</td>\n",
              "      <td>12.7307</td>\n",
              "      <td>4.2436</td>\n",
              "      <td>4.2436</td>\n",
              "      <td>12.7307</td>\n",
              "      <td>12.7307</td>\n",
              "      <td>12.7307</td>\n",
              "      <td>12.7307</td>\n",
              "      <td>4.2436</td>\n",
              "      <td>12.7307</td>\n",
              "      <td>4.2436</td>\n",
              "      <td>4.2436</td>\n",
              "      <td>12.7307</td>\n",
              "      <td>4.2436</td>\n",
              "      <td>4.2436</td>\n",
              "      <td>4.2436</td>\n",
              "      <td>4.2436</td>\n",
              "      <td>12.7307</td>\n",
              "      <td>12.7307</td>\n",
              "      <td>4.2436</td>\n",
              "      <td>12.7307</td>\n",
              "      <td>12.7307</td>\n",
              "      <td>4.2436</td>\n",
              "      <td>4.2436</td>\n",
              "      <td>12.7307</td>\n",
              "      <td>12.7307</td>\n",
              "      <td>12.7307</td>\n",
              "      <td>12.7307</td>\n",
              "      <td>4.2436</td>\n",
              "      <td>12.7307</td>\n",
              "      <td>19</td>\n",
              "      <td>1</td>\n",
              "      <td>0.1999</td>\n",
              "      <td>22NOV13</td>\n",
              "    </tr>\n",
              "    <tr>\n",
              "      <th>4</th>\n",
              "      <td>Albania</td>\n",
              "      <td>80000</td>\n",
              "      <td>ALB0006</td>\n",
              "      <td>Non-OECD</td>\n",
              "      <td>Albania</td>\n",
              "      <td>1</td>\n",
              "      <td>4</td>\n",
              "      <td>9</td>\n",
              "      <td>1.0</td>\n",
              "      <td>8</td>\n",
              "      <td>1996</td>\n",
              "      <td>Female</td>\n",
              "      <td>Yes, for more than one year</td>\n",
              "      <td>6.0</td>\n",
              "      <td>No, never</td>\n",
              "      <td>No, never</td>\n",
              "      <td>No, never</td>\n",
              "      <td>None</td>\n",
              "      <td>None</td>\n",
              "      <td>1.0</td>\n",
              "      <td>Yes</td>\n",
              "      <td>Yes</td>\n",
              "      <td>No</td>\n",
              "      <td>Yes</td>\n",
              "      <td>No</td>\n",
              "      <td>No</td>\n",
              "      <td>&lt;ISCED level 3B, 3C&gt;</td>\n",
              "      <td>No</td>\n",
              "      <td>No</td>\n",
              "      <td>No</td>\n",
              "      <td>No</td>\n",
              "      <td>Working full-time &lt;for pay&gt;</td>\n",
              "      <td>&lt;ISCED level 3A&gt;</td>\n",
              "      <td>Yes</td>\n",
              "      <td>Yes</td>\n",
              "      <td>No</td>\n",
              "      <td>No</td>\n",
              "      <td>Working full-time &lt;for pay&gt;</td>\n",
              "      <td>Country of test</td>\n",
              "      <td>Country of test</td>\n",
              "      <td>...</td>\n",
              "      <td>4.2436</td>\n",
              "      <td>4.2436</td>\n",
              "      <td>4.2436</td>\n",
              "      <td>12.7307</td>\n",
              "      <td>12.7307</td>\n",
              "      <td>4.2436</td>\n",
              "      <td>12.7307</td>\n",
              "      <td>12.7307</td>\n",
              "      <td>4.2436</td>\n",
              "      <td>4.2436</td>\n",
              "      <td>12.7307</td>\n",
              "      <td>12.7307</td>\n",
              "      <td>12.7307</td>\n",
              "      <td>12.7307</td>\n",
              "      <td>4.2436</td>\n",
              "      <td>12.7307</td>\n",
              "      <td>4.2436</td>\n",
              "      <td>4.2436</td>\n",
              "      <td>12.7307</td>\n",
              "      <td>4.2436</td>\n",
              "      <td>4.2436</td>\n",
              "      <td>4.2436</td>\n",
              "      <td>4.2436</td>\n",
              "      <td>12.7307</td>\n",
              "      <td>12.7307</td>\n",
              "      <td>4.2436</td>\n",
              "      <td>12.7307</td>\n",
              "      <td>12.7307</td>\n",
              "      <td>4.2436</td>\n",
              "      <td>4.2436</td>\n",
              "      <td>12.7307</td>\n",
              "      <td>12.7307</td>\n",
              "      <td>12.7307</td>\n",
              "      <td>12.7307</td>\n",
              "      <td>4.2436</td>\n",
              "      <td>12.7307</td>\n",
              "      <td>19</td>\n",
              "      <td>1</td>\n",
              "      <td>0.1999</td>\n",
              "      <td>22NOV13</td>\n",
              "    </tr>\n",
              "    <tr>\n",
              "      <th>5</th>\n",
              "      <td>Albania</td>\n",
              "      <td>80000</td>\n",
              "      <td>ALB0006</td>\n",
              "      <td>Non-OECD</td>\n",
              "      <td>Albania</td>\n",
              "      <td>1</td>\n",
              "      <td>5</td>\n",
              "      <td>9</td>\n",
              "      <td>1.0</td>\n",
              "      <td>10</td>\n",
              "      <td>1996</td>\n",
              "      <td>Female</td>\n",
              "      <td>Yes, for more than one year</td>\n",
              "      <td>6.0</td>\n",
              "      <td>No, never</td>\n",
              "      <td>No, never</td>\n",
              "      <td>No, never</td>\n",
              "      <td>One or two times</td>\n",
              "      <td>None</td>\n",
              "      <td>2.0</td>\n",
              "      <td>Yes</td>\n",
              "      <td>Yes</td>\n",
              "      <td>Yes</td>\n",
              "      <td>NaN</td>\n",
              "      <td>NaN</td>\n",
              "      <td>NaN</td>\n",
              "      <td>She did not complete &lt;ISCED level 1&gt;</td>\n",
              "      <td>No</td>\n",
              "      <td>No</td>\n",
              "      <td>No</td>\n",
              "      <td>No</td>\n",
              "      <td>Working part-time &lt;for pay&gt;</td>\n",
              "      <td>&lt;ISCED level 3B, 3C&gt;</td>\n",
              "      <td>No</td>\n",
              "      <td>No</td>\n",
              "      <td>No</td>\n",
              "      <td>Yes</td>\n",
              "      <td>Working part-time &lt;for pay&gt;</td>\n",
              "      <td>Country of test</td>\n",
              "      <td>Country of test</td>\n",
              "      <td>...</td>\n",
              "      <td>4.2436</td>\n",
              "      <td>4.2436</td>\n",
              "      <td>4.2436</td>\n",
              "      <td>12.7307</td>\n",
              "      <td>12.7307</td>\n",
              "      <td>4.2436</td>\n",
              "      <td>12.7307</td>\n",
              "      <td>12.7307</td>\n",
              "      <td>4.2436</td>\n",
              "      <td>4.2436</td>\n",
              "      <td>12.7307</td>\n",
              "      <td>12.7307</td>\n",
              "      <td>12.7307</td>\n",
              "      <td>12.7307</td>\n",
              "      <td>4.2436</td>\n",
              "      <td>12.7307</td>\n",
              "      <td>4.2436</td>\n",
              "      <td>4.2436</td>\n",
              "      <td>12.7307</td>\n",
              "      <td>4.2436</td>\n",
              "      <td>4.2436</td>\n",
              "      <td>4.2436</td>\n",
              "      <td>4.2436</td>\n",
              "      <td>12.7307</td>\n",
              "      <td>12.7307</td>\n",
              "      <td>4.2436</td>\n",
              "      <td>12.7307</td>\n",
              "      <td>12.7307</td>\n",
              "      <td>4.2436</td>\n",
              "      <td>4.2436</td>\n",
              "      <td>12.7307</td>\n",
              "      <td>12.7307</td>\n",
              "      <td>12.7307</td>\n",
              "      <td>12.7307</td>\n",
              "      <td>4.2436</td>\n",
              "      <td>12.7307</td>\n",
              "      <td>19</td>\n",
              "      <td>1</td>\n",
              "      <td>0.1999</td>\n",
              "      <td>22NOV13</td>\n",
              "    </tr>\n",
              "  </tbody>\n",
              "</table>\n",
              "<p>5 rows × 635 columns</p>\n",
              "</div>"
            ],
            "text/plain": [
              "       CNT  SUBNATIO  STRATUM      OECD  ... WVARSTRR  VAR_UNIT  SENWGT_STU  VER_STU\n",
              "1  Albania     80000  ALB0006  Non-OECD  ...       19         1      0.2098  22NOV13\n",
              "2  Albania     80000  ALB0006  Non-OECD  ...       19         1      0.2098  22NOV13\n",
              "3  Albania     80000  ALB0006  Non-OECD  ...       19         1      0.1999  22NOV13\n",
              "4  Albania     80000  ALB0006  Non-OECD  ...       19         1      0.1999  22NOV13\n",
              "5  Albania     80000  ALB0006  Non-OECD  ...       19         1      0.1999  22NOV13\n",
              "\n",
              "[5 rows x 635 columns]"
            ]
          },
          "metadata": {
            "tags": []
          },
          "execution_count": 5
        }
      ]
    },
    {
      "cell_type": "code",
      "metadata": {
        "id": "pvxn417Svywy",
        "colab_type": "code",
        "colab": {
          "base_uri": "https://localhost:8080/",
          "height": 102
        },
        "outputId": "fa3e015b-b7da-4a46-c1e7-5a2c0b2653c5"
      },
      "source": [
        "df.info()"
      ],
      "execution_count": null,
      "outputs": [
        {
          "output_type": "stream",
          "text": [
            "<class 'pandas.core.frame.DataFrame'>\n",
            "RangeIndex: 485490 entries, 0 to 485489\n",
            "Columns: 636 entries, Unnamed: 0 to VER_STU\n",
            "dtypes: float64(250), int64(18), object(368)\n",
            "memory usage: 2.3+ GB\n"
          ],
          "name": "stdout"
        }
      ]
    },
    {
      "cell_type": "markdown",
      "metadata": {
        "id": "DciVQwAImxDr",
        "colab_type": "text"
      },
      "source": [
        "### What is the structure of your dataset?\n",
        "\n",
        "> Your answer here!\n",
        "\n",
        "### What is/are the main feature(s) of interest in your dataset?\n",
        "\n",
        "> Your answer here!\n",
        "\n",
        "### What features in the dataset do you think will help support your investigation into your feature(s) of interest?\n",
        "\n",
        "> Your answer here!"
      ]
    },
    {
      "cell_type": "markdown",
      "metadata": {
        "id": "kpweJ2jDmxDt",
        "colab_type": "text"
      },
      "source": [
        "## Univariate Exploration\n",
        "\n",
        "> In this section, investigate distributions of individual variables. If\n",
        "you see unusual points or outliers, take a deeper look to clean things up\n",
        "and prepare yourself to look at relationships between variables."
      ]
    },
    {
      "cell_type": "code",
      "metadata": {
        "id": "YGsiqcApmxDu",
        "colab_type": "code",
        "colab": {}
      },
      "source": [
        ""
      ],
      "execution_count": null,
      "outputs": []
    },
    {
      "cell_type": "markdown",
      "metadata": {
        "id": "AOcDD7W0mxD7",
        "colab_type": "text"
      },
      "source": [
        "> Make sure that, after every plot or related series of plots, that you\n",
        "include a Markdown cell with comments about what you observed, and what\n",
        "you plan on investigating next."
      ]
    },
    {
      "cell_type": "code",
      "metadata": {
        "id": "lNa-w0nGznmG",
        "colab_type": "code",
        "colab": {}
      },
      "source": [
        "# Count plot/ Bar chart\n",
        "base_color = sb.color_palette()[0]\n",
        "cat_order = df['cat_var'].value_counts().index\n",
        "sb.countplot(data = df, x = 'cat_var', color = base_color, order = cat_order)"
      ],
      "execution_count": null,
      "outputs": []
    },
    {
      "cell_type": "code",
      "metadata": {
        "id": "PCHnNVZfmxD8",
        "colab_type": "code",
        "colab": {}
      },
      "source": [
        "# get proportion taken by most common group for derivation\n",
        "# of tick marks\n",
        "n_points = df.shape[0]\n",
        "max_count = df['cat_var'].value_counts().max()\n",
        "max_prop = max_count / n_points\n",
        "\n",
        "# generate tick mark locations and names\n",
        "tick_props = np.arange(0, max_prop, 0.05)\n",
        "tick_names = ['{:0.2f}'.format(v) for v in tick_props]\n",
        "\n",
        "# create the plot\n",
        "base_color = sb.color_palette()[0]\n",
        "sb.countplot(data = df, x = 'cat_var', color = base_color)\n",
        "plt.yticks(tick_props * n_points, tick_names)\n",
        "plt.ylabel('proportion')\n",
        "\n",
        "\n",
        "#Another Variation with annotation\n",
        "# create the plot\n",
        "base_color = sb.color_palette()[0]\n",
        "sb.countplot(data = df, x = 'cat_var', color = base_color)\n",
        "\n",
        "# add annotations\n",
        "n_points = df.shape[0]\n",
        "cat_counts = df['cat_var'].value_counts()\n",
        "locs, labels = plt.xticks() # get the current tick locations and labels\n",
        "\n",
        "# loop through each pair of locations and labels\n",
        "for loc, label in zip(locs, labels):\n",
        "\n",
        "    # get the text property for the label to get the correct count\n",
        "    count = cat_counts[label.get_text()]\n",
        "    pct_string = '{:0.1f}%'.format(100*count/n_points)\n",
        "\n",
        "    # print the annotation just below the top of the bar\n",
        "    plt.text(loc, count-8, pct_string, ha = 'center', color = 'w')"
      ],
      "execution_count": null,
      "outputs": []
    },
    {
      "cell_type": "markdown",
      "metadata": {
        "id": "79AboGSJeu2a",
        "colab_type": "text"
      },
      "source": [
        "Counting Missing Data\n",
        "\n",
        "One interesting way we can apply bar charts is through the visualization of missing data. We can use pandas functions to create a table with the number of missing values in each column.\n",
        "`df.isna().sum()`"
      ]
    },
    {
      "cell_type": "code",
      "metadata": {
        "id": "u9fYab0Ee4W8",
        "colab_type": "code",
        "colab": {}
      },
      "source": [
        "na_counts = df.isna().sum()\n",
        "base_color = sb.color_palette()[0]\n",
        "sb.barplot(na_counts.index.values, na_counts, color = base_color)"
      ],
      "execution_count": null,
      "outputs": []
    },
    {
      "cell_type": "markdown",
      "metadata": {
        "id": "LnBYYWMDlSOE",
        "colab_type": "text"
      },
      "source": [
        "Pie Charts\n",
        "\n",
        "A pie chart is a common univariate plot type that is used to depict relative frequencies for levels of a categorical variable. Frequencies in a pie chart are depicted as wedges drawn on a circle: the larger the angle or area, the more common the categorical value taken"
      ]
    },
    {
      "cell_type": "code",
      "metadata": {
        "id": "7wil152RmAHV",
        "colab_type": "code",
        "colab": {}
      },
      "source": [
        "# code for the pie chart seen above\n",
        "sorted_counts = df['cat_var'].value_counts()\n",
        "plt.pie(sorted_counts, labels = sorted_counts.index, startangle = 90,\n",
        "        counterclock = False);\n",
        "plt.axis('square')\n",
        "\n",
        "# donut using wedgeprops\n",
        "sorted_counts = df['cat_var'].value_counts()\n",
        "plt.pie(sorted_counts, labels = sorted_counts.index, startangle = 90,\n",
        "        counterclock = False, wedgeprops = {'width' : 0.4});\n",
        "plt.axis('square')"
      ],
      "execution_count": null,
      "outputs": []
    },
    {
      "cell_type": "markdown",
      "metadata": {
        "id": "GV7_Z5b0o9RI",
        "colab_type": "text"
      },
      "source": [
        "Histogram"
      ]
    },
    {
      "cell_type": "code",
      "metadata": {
        "id": "l3Y4oYlgpA3J",
        "colab_type": "code",
        "colab": {}
      },
      "source": [
        "bin_edges = np.arange(0, df['num_var'].max()+1, 1)\n",
        "plt.hist(data = df, x = 'num_var', bins = bin_edges)\n",
        "\n",
        "bin_edges = np.arange(0, df['num_var'].max()+1, 1)\n",
        "sb.distplot(df['num_var'], bins = bin_edges, kde = False,\n",
        "            hist_kws = {'alpha' : 1})"
      ],
      "execution_count": null,
      "outputs": []
    },
    {
      "cell_type": "markdown",
      "metadata": {
        "id": "pnTykRaPHFsk",
        "colab_type": "text"
      },
      "source": [
        "With \"rwidth\" set to 0.7, the bars will take up 70% of the space allocated by each bin, with 30% of the space left empty. This changes the default display of the histogram (which you could think of as \"rwidth = 1\") into a bar chart"
      ]
    },
    {
      "cell_type": "code",
      "metadata": {
        "id": "5K52b3qnHAC-",
        "colab_type": "code",
        "colab": {}
      },
      "source": [
        "\n",
        "bin_edges = np.arange(1.5, 12.5+1, 1)\n",
        "plt.hist(die_rolls, bins = bin_edges, rwidth = 0.7)\n",
        "plt.xticks(np.arange(2, 12+1, 1))\n",
        "plt.xlim(0, 35) # could also be called as plt.xlim((0, 35))\n",
        "\n",
        "# Scalling\n",
        "bin_edges = 10 ** np.arange(0.8, np.log10(data.max())+0.1, 0.1)\n",
        "plt.hist(data, bins = bin_edges)\n",
        "plt.xscale('log')\n",
        "tick_locs = [10, 30, 100, 300, 1000, 3000]\n",
        "plt.xticks(tick_locs, tick_locs)"
      ],
      "execution_count": null,
      "outputs": []
    },
    {
      "cell_type": "markdown",
      "metadata": {
        "id": "EgyegGw9mxEF",
        "colab_type": "text"
      },
      "source": [
        "### Discuss the distribution(s) of your variable(s) of interest. Were there any unusual points? Did you need to perform any transformations?\n",
        "\n",
        "> Your answer here!\n",
        "\n",
        "### Of the features you investigated, were there any unusual distributions? Did you perform any operations on the data to tidy, adjust, or change the form of the data? If so, why did you do this?\n",
        "\n",
        "> Your answer here!"
      ]
    },
    {
      "cell_type": "markdown",
      "metadata": {
        "id": "ejmZqt_qmxEH",
        "colab_type": "text"
      },
      "source": [
        "## Bivariate Exploration\n",
        "\n",
        "> In this section, investigate relationships between pairs of variables in your\n",
        "data. Make sure the variables that you cover here have been introduced in some\n",
        "fashion in the previous section (univariate exploration)."
      ]
    },
    {
      "cell_type": "markdown",
      "metadata": {
        "id": "vyz2LXAEbwat",
        "colab_type": "text"
      },
      "source": [
        "scatter plot quantitative vs quantitative"
      ]
    },
    {
      "cell_type": "code",
      "metadata": {
        "id": "23dTFzuumxEI",
        "colab_type": "code",
        "colab": {}
      },
      "source": [
        "plt.scatter(data = df, x = 'num_var1', y = 'num_var2')\n",
        "\n",
        "sb.regplot(data = df, x = 'num_var1', y = 'num_var2', fit_reg = False)\n",
        "\n",
        "\n",
        "def log_trans(x, inverse = False):\n",
        "    if not inverse:\n",
        "        return np.log10(x)\n",
        "    else:\n",
        "        return np.power(10, x)\n",
        "\n",
        "sb.regplot(df['num_var1'], df['num_var2'].apply(log_trans))\n",
        "tick_locs = [10, 20, 50, 100, 200, 500]\n",
        "plt.yticks(log_trans(tick_locs), tick_locs)\n",
        "\n",
        "sb.regplot(data = df, x = 'disc_var1', y = 'disc_var2', fit_reg = False,\n",
        "           x_jitter = 0.2, y_jitter = 0.2, scatter_kws = {'alpha' : 1/3})\n",
        "\n",
        "sb.swarmplot(data = df, x = 'cat_var', y = 'num_var', color = base_color)\n",
        "plt.ylim(ax1.get_ylim()) # set y-axis limits to be same as left plot"
      ],
      "execution_count": null,
      "outputs": []
    },
    {
      "cell_type": "code",
      "metadata": {
        "id": "5sccrHLyrHrC",
        "colab_type": "code",
        "colab": {}
      },
      "source": [
        "# hist2d returns a number of different variables, including an array of counts\n",
        "bins_x = np.arange(0.5, 10.5+1, 1)\n",
        "bins_y = np.arange(-0.5, 10.5+1, 1)\n",
        "h2d = plt.hist2d(data = df, x = 'disc_var1', y = 'disc_var2',\n",
        "               bins = [bins_x, bins_y], cmap = 'viridis_r', cmin = 0.5)\n",
        "counts = h2d[0]\n",
        "\n",
        "# loop through the cell counts and add text annotations for each\n",
        "for i in range(counts.shape[0]):\n",
        "    for j in range(counts.shape[1]):\n",
        "        c = counts[i,j]\n",
        "        if c >= 7: # increase visibility on darkest cells\n",
        "            plt.text(bins_x[i]+0.5, bins_y[j]+0.5, int(c),\n",
        "                     ha = 'center', va = 'center', color = 'white')\n",
        "        elif c > 0:\n",
        "            plt.text(bins_x[i]+0.5, bins_y[j]+0.5, int(c),\n",
        "                     ha = 'center', va = 'center', color = 'black')"
      ],
      "execution_count": null,
      "outputs": []
    },
    {
      "cell_type": "markdown",
      "metadata": {
        "id": "ZxrZcCY1bwNX",
        "colab_type": "text"
      },
      "source": [
        "Violin plot and box plot (categorical vs quantitative)\n",
        "\n"
      ]
    },
    {
      "cell_type": "code",
      "metadata": {
        "id": "djPvQnffkRU9",
        "colab_type": "code",
        "colab": {}
      },
      "source": [
        "base_color = sb.color_palette()[0]\n",
        "\n",
        "sb.violinplot(data = df, x = 'cat_var', y = 'num_var', color = base_color,\n",
        "              inner = 'quartile')  \n",
        "# inner = \"stick\" and inner = \"point\" \n",
        "\n",
        "# strip plot\n",
        "ax1 = sb.stripplot(data = df, x = 'num_var', y = 'cat_var',\n",
        "                   color = base_color)\n",
        "\n",
        "sb.boxplot(data = df, x = 'num_var', y = 'cat_var', color = base_color)\n",
        "plt.xticks(rotation =15);"
      ],
      "execution_count": null,
      "outputs": []
    },
    {
      "cell_type": "markdown",
      "metadata": {
        "id": "ULzb83Z6tBRc",
        "colab_type": "text"
      },
      "source": [
        "Clustered Bar Chart"
      ]
    },
    {
      "cell_type": "code",
      "metadata": {
        "id": "KtnxxIVItBwO",
        "colab_type": "code",
        "colab": {}
      },
      "source": [
        "ax = sb.countplot(data = df, x = 'cat_var1', hue = 'cat_var2')\n",
        "ax.legend(loc = 8, ncol = 3, framealpha = 1, title = 'cat_var2')\n",
        "\n",
        "\n",
        "ct_counts = df.groupby(['cat_var1', 'cat_var2']).size()\n",
        "ct_counts = ct_counts.reset_index('count')\n",
        "ct_counts = ct_counts.pivot(index = 'cat_var2', columns = 'cat_var1', values = 'count')\n",
        "sb.heatmap(ct_counts, annot = True, fmt = 'd')\n",
        "# fmt = '.0f' if you have any cells with no counts, in order to account for NaNs\n",
        "\n",
        "sedan_classes = ['Minicompact Cars', 'Subcompact Cars', 'Compact Cars', 'Midsize Cars', 'Large Cars']\n",
        "vclasses = pd.api.types.CategoricalDtype(ordered = True, categories = sedan_classes)\n",
        "fuel_econ['VClass'] = fuel_econ['VClass'].astype(vclasses)\n",
        "fuel_econ_sub = fuel_econ.loc[fuel_econ['fuelType'].isin(['Premium Gasoline', 'Regular Gasoline'])]\n",
        "\n",
        "ax = sb.countplot(data = fuel_econ_sub, x = 'VClass', hue = 'fuelType')\n",
        "ax.legend(loc = 4, framealpha = 1) # lower right, no transparency\n",
        "plt.xticks(rotation = 15)"
      ],
      "execution_count": null,
      "outputs": []
    },
    {
      "cell_type": "code",
      "metadata": {
        "id": "m-VTk5hgwpCP",
        "colab_type": "code",
        "colab": {}
      },
      "source": [
        "group_means = df.groupby(['many_cat_var']).mean()\n",
        "group_order = group_means.sort_values(['num_var'], ascending = False).index\n",
        "\n",
        "g = sb.FacetGrid(data = df, col = 'many_cat_var', col_wrap = 5, size = 2,\n",
        "                 col_order = group_order)\n",
        "g.map(plt.hist, 'num_var', bins = np.arange(5, 15+1, 1))\n",
        "g.set_titles('{col_name}')"
      ],
      "execution_count": null,
      "outputs": []
    },
    {
      "cell_type": "code",
      "metadata": {
        "id": "1RJigAacG2Of",
        "colab_type": "code",
        "colab": {}
      },
      "source": [
        "bin_edges = np.arange(0, df['num_var'].max()+1/3, 1/3)\n",
        "\n",
        "# count number of points in each bin\n",
        "bin_idxs = pd.cut(df['num_var'], bin_edges, right = False, include_lowest = True,\n",
        "                  labels = False).astype(int)\n",
        "pts_per_bin = df.groupby(bin_idxs).size()\n",
        "\n",
        "num_var_wts = df['binary_out'] / pts_per_bin[bin_idxs].values\n",
        "\n",
        "# plot the data using the calculated weights\n",
        "plt.hist(data = df, x = 'num_var', bins = bin_edges, weights = num_var_wts)\n",
        "plt.xlabel('num_var')\n",
        "plt.ylabel('mean(binary_out)')"
      ],
      "execution_count": null,
      "outputs": []
    },
    {
      "cell_type": "markdown",
      "metadata": {
        "id": "HE9qiX6RZ9U1",
        "colab_type": "text"
      },
      "source": [
        ""
      ]
    },
    {
      "cell_type": "code",
      "metadata": {
        "id": "WPuOWWbXZ8vx",
        "colab_type": "code",
        "colab": {}
      },
      "source": [
        "# set bin edges, compute centers\n",
        "bin_size = 0.25\n",
        "xbin_edges = np.arange(0.5, df['num_var1'].max()+bin_size, bin_size)\n",
        "xbin_centers = (xbin_edges + bin_size/2)[:-1]\n",
        "\n",
        "# compute statistics in each bin\n",
        "data_xbins = pd.cut(df['num_var1'], xbin_edges, right = False, include_lowest = True)\n",
        "y_means = df['num_var2'].groupby(data_xbins).mean()\n",
        "y_sems = df['num_var2'].groupby(data_xbins).sem()\n",
        "\n",
        "# plot the summarized data\n",
        "plt.errorbar(x = xbin_centers, y = y_means, yerr = y_sems)\n",
        "plt.xlabel('num_var1')\n",
        "plt.ylabel('num_var2')\n",
        "\n",
        "\n",
        "bin_edges = np.arange(-3, df['num_var'].max()+1/3, 1/3)\n",
        "g = sb.FacetGrid(data = df, hue = 'cat_var', size = 5)\n",
        "g.map(plt.hist, \"num_var\", bins = bin_edges, histtype = 'step')\n",
        "g.add_legend()\n",
        "\n",
        "\n",
        "\n",
        "def freq_poly(x, bins = 10, **kwargs):\n",
        "    \"\"\" Custom frequency polygon / line plot code. \"\"\"\n",
        "    # set bin edges if none or int specified\n",
        "    if type(bins) == int:\n",
        "        bins = np.linspace(x.min(), x.max(), bins+1)\n",
        "    bin_centers = (bin_edges[1:] + bin_edges[:-1]) / 2\n",
        "\n",
        "    # compute counts\n",
        "    data_bins = pd.cut(x, bins, right = False,\n",
        "                       include_lowest = True)\n",
        "    counts = x.groupby(data_bins).count()\n",
        "\n",
        "    # create plot\n",
        "    plt.errorbar(x = bin_centers, y = counts, **kwargs)\n",
        "\n",
        "bin_edges = np.arange(-3, df['num_var'].max()+1/3, 1/3)\n",
        "g = sb.FacetGrid(data = df, hue = 'cat_var', size = 5)\n",
        "g.map(freq_poly, \"num_var\", bins = bin_edges)\n",
        "g.add_legend()"
      ],
      "execution_count": null,
      "outputs": []
    },
    {
      "cell_type": "markdown",
      "metadata": {
        "id": "bhHhTAzfmxEO",
        "colab_type": "text"
      },
      "source": [
        "### Talk about some of the relationships you observed in this part of the investigation. How did the feature(s) of interest vary with other features in the dataset?\n",
        "\n",
        "> Your answer here!\n",
        "\n",
        "### Did you observe any interesting relationships between the other features (not the main feature(s) of interest)?\n",
        "\n",
        "> Your answer here!"
      ]
    },
    {
      "cell_type": "markdown",
      "metadata": {
        "id": "L1et_IpdmxEQ",
        "colab_type": "text"
      },
      "source": [
        "## Multivariate Exploration\n",
        "\n",
        "> Create plots of three or more variables to investigate your data even\n",
        "further. Make sure that your investigations are justified, and follow from\n",
        "your work in the previous sections."
      ]
    },
    {
      "cell_type": "markdown",
      "metadata": {
        "id": "I7TJw8-HrLnZ",
        "colab_type": "text"
      },
      "source": [
        "Encoding via Shape"
      ]
    },
    {
      "cell_type": "code",
      "metadata": {
        "id": "eTIw5_8mmxER",
        "colab_type": "code",
        "colab": {}
      },
      "source": [
        "cat_markers = [['A', 'o'],\n",
        "               ['B', 's']]\n",
        "\n",
        "for cat, marker in cat_markers:\n",
        "    df_cat = df[df['cat_var1'] == cat]\n",
        "    plt.scatter(data = df_cat, x = 'num_var1', y = 'num_var2', marker = marker)\n",
        "plt.legend(['A','B'])"
      ],
      "execution_count": null,
      "outputs": []
    },
    {
      "cell_type": "markdown",
      "metadata": {
        "id": "-iQXmj2f8Duu",
        "colab_type": "text"
      },
      "source": [
        "Encoding Via Color"
      ]
    },
    {
      "cell_type": "code",
      "metadata": {
        "id": "OarQ3Mj48F6G",
        "colab_type": "code",
        "colab": {}
      },
      "source": [
        "g = sb.FacetGrid(data = df, hue = 'cat_var1', size = 5,\n",
        "                 palette = 'colorblind')\n",
        "g.map(plt.scatter, 'num_var1', 'num_var2')\n",
        "g.add_legend()"
      ],
      "execution_count": null,
      "outputs": []
    },
    {
      "cell_type": "code",
      "metadata": {
        "id": "ijDcSQJI83py",
        "colab_type": "code",
        "colab": {}
      },
      "source": [
        "plt.scatter(data = df, x = 'num_var1', y = 'num_var2', c = 'num_var3',\n",
        "            cmap = 'mako_r')\n",
        "plt.colorbar()"
      ],
      "execution_count": null,
      "outputs": []
    },
    {
      "cell_type": "markdown",
      "metadata": {
        "id": "ujOLaaJnggyM",
        "colab_type": "text"
      },
      "source": [
        "Faceting Grid"
      ]
    },
    {
      "cell_type": "code",
      "metadata": {
        "id": "nWQe5jLGgfr2",
        "colab_type": "code",
        "colab": {}
      },
      "source": [
        "g = sb.FacetGrid(data = df, col = 'cat_var2', row = 'cat_var1', size = 2.5,\n",
        "                margin_titles = True)\n",
        "g.map(plt.scatter, 'num_var1', 'num_var2')"
      ],
      "execution_count": null,
      "outputs": []
    },
    {
      "cell_type": "markdown",
      "metadata": {
        "id": "RL5C2XSQseN1",
        "colab_type": "text"
      },
      "source": [
        "Plot Matrix"
      ]
    },
    {
      "cell_type": "code",
      "metadata": {
        "id": "B9rtYPL5sgem",
        "colab_type": "code",
        "colab": {}
      },
      "source": [
        "g = sb.PairGrid(data = df, x_vars = ['num_var1', 'num_var2', 'num_var3'],\n",
        "                y_vars = ['cat_var1','cat_var2'])\n",
        "g.map(sb.violinplot, inner = 'quartile')\n",
        "\n",
        "sb.heatmap(df.corr(), annot = True, fmt = '.2f', cmap = 'vlag_r', center = 0)\n"
      ],
      "execution_count": null,
      "outputs": []
    },
    {
      "cell_type": "markdown",
      "metadata": {
        "id": "yV8RLJMImxEa",
        "colab_type": "text"
      },
      "source": [
        "### Talk about some of the relationships you observed in this part of the investigation. Were there features that strengthened each other in terms of looking at your feature(s) of interest?\n",
        "\n",
        "> Your answer here!\n",
        "\n",
        "### Were there any interesting or surprising interactions between features?\n",
        "\n",
        "> Your answer here!"
      ]
    },
    {
      "cell_type": "markdown",
      "metadata": {
        "id": "52LY0M-kmxEb",
        "colab_type": "text"
      },
      "source": [
        "> At the end of your report, make sure that you export the notebook as an\n",
        "html file from the `File > Download as... > HTML` menu. Make sure you keep\n",
        "track of where the exported file goes, so you can put it in the same folder\n",
        "as this notebook for project submission. Also, make sure you remove all of\n",
        "the quote-formatted guide notes like this one before you finish your report!"
      ]
    },
    {
      "cell_type": "code",
      "metadata": {
        "id": "kHPjPxspmxEc",
        "colab_type": "code",
        "colab": {}
      },
      "source": [
        ""
      ],
      "execution_count": null,
      "outputs": []
    }
  ]
}